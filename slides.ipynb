{
 "cells": [
  {
   "cell_type": "markdown",
   "metadata": {
    "slideshow": {
     "slide_type": "slide"
    }
   },
   "source": [
    "# TOSS: Throw Out (Your) Shell Scripts\n",
    "\n",
    "```\n",
    "import pathlib\n",
    "import shutil\n",
    "import subprocess\n",
    "```\n",
    "\n",
    "## Nick Timkovich"
   ]
  },
  {
   "cell_type": "markdown",
   "metadata": {
    "slideshow": {
     "slide_type": "slide"
    }
   },
   "source": [
    "# The Incumbent: `sh`/`cmd.exe`\n",
    "\n",
    "Unfortunately Python isn't everywhere. One of `sh` or `cmd.exe` is on nearly every development environment.\n",
    "\n",
    "This is fine for one-offs. \n",
    "* `ls`, \n",
    "* `dir`, \n",
    "* `rm -rf /`, and so on.\n",
    "\n",
    "But what about when we want to do a bunch of stuff again and again?"
   ]
  },
  {
   "cell_type": "markdown",
   "metadata": {
    "slideshow": {
     "slide_type": "subslide"
    }
   },
   "source": [
    "## Scripts\n",
    "\n",
    "We can weave together commands into a file and run it using the shell.\n",
    "\n",
    "```sh\n",
    "#!/bin/sh\n",
    "echo \"Who are you?:\"\n",
    "read name\n",
    "touch ${name}_was_here\n",
    "```"
   ]
  },
  {
   "cell_type": "markdown",
   "metadata": {
    "slideshow": {
     "slide_type": "subslide"
    }
   },
   "source": [
    "## What if we want to do different things?"
   ]
  },
  {
   "cell_type": "markdown",
   "metadata": {
    "slideshow": {
     "slide_type": "-"
    }
   },
   "source": [
    "```bash\n",
    "#!/bin/sh\n",
    "argument=$1\n",
    "if [ $argument -ne 0 ]\n",
    "then\n",
    "    echo \"yerp\"\n",
    "else\n",
    "    echo \"nope\"\n",
    "fi\n",
    "```\n",
    "\n",
    "TODO MORE SIDE-BY-SIDES OF THE TRICKY LOGIC IN SH"
   ]
  },
  {
   "cell_type": "markdown",
   "metadata": {
    "slideshow": {
     "slide_type": "slide"
    }
   },
   "source": [
    "# Shell \"Features\"\n",
    "\n",
    "## One Type: Strings\n",
    "\n",
    "Solution: use different operators to coerce and compare as other types. Like Perl.\n",
    "\n",
    "x = 3, y = 10\n",
    "\n",
    "```sh\n",
    "# *sh\n",
    "[ x -lt y ]  # true\n",
    "[[ x < y ]]  # false, but bash only\n",
    "```\n",
    "\n",
    "```perl\n",
    "# Perl\n",
    "x lt y  # false (lt compares as strings)\n",
    "x < y   # true (< compares as numbers)\n",
    "```\n",
    "\n",
    "Bash has arrays, but they are seldom used or manipulated outside of Bash-specific scripts\n",
    "\n",
    "Sequences in shells scripts are more commonly newline- or null-delimited strings."
   ]
  },
  {
   "cell_type": "markdown",
   "metadata": {
    "slideshow": {
     "slide_type": "subslide"
    }
   },
   "source": [
    "## Syntax Gotchas\n",
    "\n",
    "### Expansions\n",
    "\n",
    "```\n",
    "$ touch $x\n",
    "\n",
    "$ ls -l\n",
    "total 0\n",
    "-rw-r--r-- 1 nick nick    0 Aug  2 11:44 hello\n",
    "-rw-r--r-- 1 nick nick    0 Aug  2 11:44 world\n",
    "\n",
    "$ touch \"$x\"\n",
    "total 0\n",
    "-rw-r--r-- 1 nick nick 0 Aug  2 11:44  hello\n",
    "-rw-r--r-- 1 nick nick 0 Aug  2 11:45 'hello world'\n",
    "-rw-r--r-- 1 nick nick 0 Aug  2 11:44  world\n",
    "```\n",
    "\n",
    "Related joke command (DO NOT RUN THIS): `mv /*/`"
   ]
  },
  {
   "cell_type": "markdown",
   "metadata": {
    "slideshow": {
     "slide_type": "subslide"
    }
   },
   "source": [
    "## Syntax Gotchas\n",
    "\n",
    "Whitespace sensitive\n",
    "\n",
    "```text\n",
    "$ x = \"hello world\"\n",
    "x: command not found\n",
    "\n",
    "$ x=\"hello world\"\n",
    "$ echo $x\n",
    "hello world\n",
    "\n",
    "$ [$x = \"hello world\"]\n",
    "[hello: command not found\n",
    "\n",
    "$ [ $x = \"hello world\" ]\n",
    "$ # worked, but how's the output work?\n",
    "```"
   ]
  },
  {
   "cell_type": "markdown",
   "metadata": {
    "slideshow": {
     "slide_type": "subslide"
    }
   },
   "source": [
    "## Returning Values\n",
    "\n",
    "`sh` provides 8-bit unsigned return values (0-255) for status, you need to get everything else out of the output."
   ]
  },
  {
   "cell_type": "code",
   "execution_count": 37,
   "metadata": {
    "slideshow": {
     "slide_type": "fragment"
    }
   },
   "outputs": [
    {
     "name": "stdout",
     "output_type": "stream",
     "text": [
      "First test : 0\n",
      "Second test: 1\n"
     ]
    }
   ],
   "source": [
    "%%bash\n",
    "x=\"hello world\"\n",
    "\n",
    "[ \"$x\" = \"hello world\" ]\n",
    "echo First test : $?\n",
    "\n",
    "[ \"$x\" = \"hello chicago\" ]\n",
    "echo Second test: $?"
   ]
  },
  {
   "cell_type": "markdown",
   "metadata": {},
   "source": [
    "Note: an exit code of 0 *usually* means the command worked. In the case of the `[` executable (yes, that's a program, an alias of `test`), that it was ***true***."
   ]
  },
  {
   "cell_type": "markdown",
   "metadata": {
    "slideshow": {
     "slide_type": "subslide"
    }
   },
   "source": [
    "## But Bash is everywhere, right?\n",
    "\n",
    "Many scripts are cross-shell and can run in either Bash and `sh`, but some are Bash specific (`((` or `[[` is a giveaway). Bash also has versions, so if you write it locally it may not work on the production server's CentOS 6 Bash. \n",
    "\n",
    "* macOS 10.14 and earlier has Bash 3.x. \n",
    "* Most distros of Linux now ship Bash 4.x (2009)\n",
    "* Minimal distros like Alpine won't even have it by default.\n",
    "* Your local shell may not even be Bash: macOS 10.15 uses `zsh`.\n",
    "\n",
    "If you want uniformity, you need to go for the lowest-common denominator, POSIX-compliant `sh`. "
   ]
  },
  {
   "cell_type": "markdown",
   "metadata": {
    "slideshow": {
     "slide_type": "fragment"
    }
   },
   "source": [
    "But then you still wouldn't work on Windows..."
   ]
  },
  {
   "cell_type": "markdown",
   "metadata": {
    "slideshow": {
     "slide_type": "slide"
    }
   },
   "source": [
    "# Great, but how do I do things in Python?\n",
    "\n",
    "1. Implementing logic, using variables. \n",
    "    \n",
    "    We won't cover this here: Hard in shell, easy in Python.\n",
    "\n",
    "\n",
    "2. Manipulating the file-system (`mv`, `ls`, `cp`)\n",
    "    \n",
    "    `shutil`, `os`, `pathlib`\n",
    "\n",
    "\n",
    "3. Launching other executables\n",
    "\n",
    "    `subprocess` package or 3rd party ones"
   ]
  },
  {
   "cell_type": "markdown",
   "metadata": {
    "slideshow": {
     "slide_type": "slide"
    }
   },
   "source": [
    "# Where am I?: Getting Around\n",
    "\n",
    "When calling other executables or manipulating files, its first important to know where you are. The hidden context can be a source of confusion.\n",
    "\n",
    "1. working directory vs. script location: important for accessing files that may be part of the script/package, or conversely that the scripts acts upon.\n",
    "2. the `PATH` envvar, which shells search through for a matching executable"
   ]
  },
  {
   "cell_type": "markdown",
   "metadata": {
    "slideshow": {
     "slide_type": "subslide"
    }
   },
   "source": [
    "## The Working Directory\n",
    "\n",
    "So where are you? The 'Working Directory' (`pwd`: print (current) working directory) is the location from which file system actions will be performed relative to."
   ]
  },
  {
   "cell_type": "code",
   "execution_count": 36,
   "metadata": {
    "slideshow": {
     "slide_type": "-"
    }
   },
   "outputs": [
    {
     "name": "stdout",
     "output_type": "stream",
     "text": [
      "/home/nick/Code/toss\n"
     ]
    }
   ],
   "source": [
    "%%sh\n",
    "pwd"
   ]
  },
  {
   "cell_type": "code",
   "execution_count": 34,
   "metadata": {
    "slideshow": {
     "slide_type": "-"
    }
   },
   "outputs": [
    {
     "data": {
      "text/plain": [
       "'/home/nick/Code/toss'"
      ]
     },
     "execution_count": 34,
     "metadata": {},
     "output_type": "execute_result"
    }
   ],
   "source": [
    "import os\n",
    "os.getcwd()"
   ]
  },
  {
   "cell_type": "markdown",
   "metadata": {},
   "source": [
    "This can be a gotcha if you always expect the working directory to be where your script is."
   ]
  },
  {
   "cell_type": "markdown",
   "metadata": {
    "slideshow": {
     "slide_type": "subslide"
    }
   },
   "source": [
    "## The `PATH` envvar\n",
    "\n",
    "Searched through for executables by some"
   ]
  },
  {
   "cell_type": "markdown",
   "metadata": {
    "slideshow": {
     "slide_type": "slide"
    }
   },
   "source": [
    "# Subprocesses via `subprocess`\n",
    "\n",
    "TODO"
   ]
  },
  {
   "cell_type": "markdown",
   "metadata": {
    "slideshow": {
     "slide_type": "slide"
    }
   },
   "source": [
    "# Use Case 1: Wrapping a complicated script\n",
    "\n",
    "A while back, I had to work with a script that would build disk images for bare-metal machines (`diskimage-builder`). This script was in-turn called by another script my team developed to set up all the customized elements, but it also made heavy use of environment variables as a way to pass in arguments."
   ]
  },
  {
   "cell_type": "markdown",
   "metadata": {
    "slideshow": {
     "slide_type": "fragment"
    }
   },
   "source": [
    "When flitting between multiple shells across VMs, needing to re-set envvars became annoying and error-prone.\n",
    "\n",
    "What can we do?"
   ]
  },
  {
   "cell_type": "markdown",
   "metadata": {
    "slideshow": {
     "slide_type": "subslide"
    }
   },
   "source": [
    "## Wrappers\n",
    "\n",
    "With Python we can wrap the script, not disturbing any of the dark `sh` magic, but dramatically increasing the usability."
   ]
  },
  {
   "cell_type": "markdown",
   "metadata": {},
   "source": [
    "(Demo)"
   ]
  },
  {
   "cell_type": "markdown",
   "metadata": {},
   "source": [
    "## `os.exec*`\n",
    "\n",
    "* `execl`: Provide the arguments as a string\n",
    "* `execv`: Provide the arguments as a list\n",
    "\n",
    "* ...with `p` suffix: Searches `PATH` for the executable\n",
    "* ...with `e` suffix: `env` keyword argument used to *replace* the environment variables.\n"
   ]
  },
  {
   "cell_type": "markdown",
   "metadata": {
    "slideshow": {
     "slide_type": "slide"
    }
   },
   "source": [
    "# Use Case 2: Makefile Replacement\n",
    "\n",
    "Invoke is a Python library that provides a way to execute multiple \"tasks\" (make would call them \"directives\")\n",
    "\n",
    "Nox... (TODO)"
   ]
  },
  {
   "cell_type": "code",
   "execution_count": null,
   "metadata": {},
   "outputs": [],
   "source": []
  },
  {
   "cell_type": "markdown",
   "metadata": {
    "slideshow": {
     "slide_type": "slide"
    }
   },
   "source": [
    "# No Clear Winner\n",
    "\n",
    "Undercutting my whole argument: the lowest common denominator will continue to be `/bin/sh` and compatible variants.\n",
    "\n",
    "Howver, on your workstation or in Python app environments where you have Python installed, you may as well use it."
   ]
  },
  {
   "cell_type": "code",
   "execution_count": null,
   "metadata": {},
   "outputs": [],
   "source": []
  }
 ],
 "metadata": {
  "celltoolbar": "Slideshow",
  "kernelspec": {
   "display_name": "Python 3",
   "language": "python",
   "name": "python3"
  },
  "language_info": {
   "codemirror_mode": {
    "name": "ipython",
    "version": 3
   },
   "file_extension": ".py",
   "mimetype": "text/x-python",
   "name": "python",
   "nbconvert_exporter": "python",
   "pygments_lexer": "ipython3",
   "version": "3.7.2"
  }
 },
 "nbformat": 4,
 "nbformat_minor": 2
}
